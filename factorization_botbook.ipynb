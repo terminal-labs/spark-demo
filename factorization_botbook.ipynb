{
 "cells": [
  {
   "cell_type": "code",
   "execution_count": 1,
   "id": "de4fec81-1003-4938-8aca-5ee15a7e98e8",
   "metadata": {},
   "outputs": [],
   "source": [
    "from lib import factorization"
   ]
  },
  {
   "cell_type": "code",
   "execution_count": 2,
   "id": "2bfc69f6-5028-4fbf-a3c5-20b52668551d",
   "metadata": {},
   "outputs": [
    {
     "data": {
      "text/plain": [
       "[3, 4, 5]"
      ]
     },
     "execution_count": 2,
     "metadata": {},
     "output_type": "execute_result"
    }
   ],
   "source": [
    "factorization(60)"
   ]
  },
  {
   "cell_type": "code",
   "execution_count": null,
   "id": "4abe18e0-a057-4c8d-a3a4-4f616e13a8bc",
   "metadata": {},
   "outputs": [],
   "source": []
  }
 ],
 "metadata": {
  "kernelspec": {
   "display_name": "Python 3",
   "language": "python",
   "name": "python3"
  },
  "language_info": {
   "codemirror_mode": {
    "name": "ipython",
    "version": 3
   },
   "file_extension": ".py",
   "mimetype": "text/x-python",
   "name": "python",
   "nbconvert_exporter": "python",
   "pygments_lexer": "ipython3",
   "version": "3.8.8"
  }
 },
 "nbformat": 4,
 "nbformat_minor": 5
}
